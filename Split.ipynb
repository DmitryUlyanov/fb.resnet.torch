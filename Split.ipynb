{
 "cells": [
  {
   "cell_type": "markdown",
   "metadata": {},
   "source": [
    "# Download Resnet models"
   ]
  },
  {
   "cell_type": "code",
   "execution_count": 1,
   "metadata": {
    "collapsed": false
   },
   "outputs": [],
   "source": [
    "# !wget \"https://d2j0dndfm35trm.cloudfront.net/resnet-18.t7\"\n",
    "# !wget \"https://d2j0dndfm35trm.cloudfront.net/resnet-34.t7\"\n",
    "# !wget \"https://d2j0dndfm35trm.cloudfront.net/resnet-50.t7\""
   ]
  },
  {
   "cell_type": "markdown",
   "metadata": {},
   "source": [
    "# Split dataset"
   ]
  },
  {
   "cell_type": "code",
   "execution_count": 3,
   "metadata": {
    "collapsed": false
   },
   "outputs": [],
   "source": [
    "\n",
    "import numpy as np\n",
    "import pandas as pd \n",
    "\n",
    "import matplotlib.pyplot as plt\n",
    "get_ipython().magic(u'matplotlib inline')\n",
    "plt.rcParams['figure.figsize'] = (14, 14)\n",
    "\n",
    "# This will populate `globs_to_run`"
   ]
  },
  {
   "cell_type": "code",
   "execution_count": 4,
   "metadata": {
    "collapsed": true
   },
   "outputs": [],
   "source": [
    "labels = pd.read_csv('../data/id_train.csv')\n",
    "labels_test = pd.read_csv('../data/sample_submission4.csv')"
   ]
  },
  {
   "cell_type": "code",
   "execution_count": 5,
   "metadata": {
    "collapsed": true
   },
   "outputs": [],
   "source": [
    "from sklearn.cross_validation import train_test_split\n",
    "X_train, X_val =train_test_split(labels, test_size=0.1, stratify = labels['label'],random_state=42)"
   ]
  },
  {
   "cell_type": "code",
   "execution_count": 6,
   "metadata": {
    "collapsed": false
   },
   "outputs": [],
   "source": [
    "import os.path\n",
    "import os\n",
    "base_path = '../data/data_split/'\n",
    "\n",
    "!rm -Rf $base_path\n",
    "for l in X_train.label.unique():\n",
    "    \n",
    "    d = base_path + 'train/' + str(l)\n",
    "    if not os.path.exists(d):\n",
    "        os.makedirs(d)\n",
    "        \n",
    "    d = base_path + 'val/' + str(l)\n",
    "    if not os.path.exists(d):\n",
    "        os.makedirs(d)\n",
    "        "
   ]
  },
  {
   "cell_type": "code",
   "execution_count": 7,
   "metadata": {
    "collapsed": false
   },
   "outputs": [],
   "source": [
    "what = X_train \n",
    "\n",
    "for i in what.index:\n",
    "    row = what.ix[i]\n",
    "    link_name = '../data/data_split/train/' + str(row.label) + '/' +  str(row.Id) + '.jpg'\n",
    "    if os.path.lexists(link_name):\n",
    "        os.unlink(link_name)\n",
    "        \n",
    "    os.symlink(os.path.abspath('../data/roof_images/' + str(row.Id) + '.jpg'), os.path.abspath(link_name))"
   ]
  },
  {
   "cell_type": "code",
   "execution_count": 8,
   "metadata": {
    "collapsed": true
   },
   "outputs": [],
   "source": [
    "what = X_val\n",
    "\n",
    "for i in what.index:\n",
    "    row = what.ix[i]\n",
    "    link_name = '../data/data_split/val/' + str(row.label) + '/' +  str(row.Id) + '.jpg'\n",
    "    if os.path.lexists(link_name):\n",
    "        os.unlink(link_name)\n",
    "        \n",
    "    os.symlink(os.path.abspath('../data/roof_images/' + str(row.Id) + '.jpg'), os.path.abspath(link_name))"
   ]
  },
  {
   "cell_type": "code",
   "execution_count": null,
   "metadata": {
    "collapsed": true
   },
   "outputs": [],
   "source": []
  }
 ],
 "metadata": {
  "kernelspec": {
   "display_name": "Python 2",
   "language": "python",
   "name": "python2"
  },
  "language_info": {
   "codemirror_mode": {
    "name": "ipython",
    "version": 2
   },
   "file_extension": ".py",
   "mimetype": "text/x-python",
   "name": "python",
   "nbconvert_exporter": "python",
   "pygments_lexer": "ipython2",
   "version": "2.7.11"
  }
 },
 "nbformat": 4,
 "nbformat_minor": 0
}
