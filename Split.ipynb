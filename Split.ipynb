{
 "cells": [
  {
   "cell_type": "markdown",
   "metadata": {},
   "source": [
    "# Download Resnet models"
   ]
  },
  {
   "cell_type": "code",
   "execution_count": 1,
   "metadata": {
    "collapsed": false
   },
   "outputs": [],
   "source": [
    "# !wget \"https://d2j0dndfm35trm.cloudfront.net/resnet-18.t7\"\n",
    "# !wget \"https://d2j0dndfm35trm.cloudfront.net/resnet-34.t7\"\n",
    "# !wget \"https://d2j0dndfm35trm.cloudfront.net/resnet-50.t7\""
   ]
  },
  {
   "cell_type": "markdown",
   "metadata": {},
   "source": [
    "# Split dataset for validation"
   ]
  },
  {
   "cell_type": "code",
   "execution_count": 3,
   "metadata": {
    "collapsed": false
   },
   "outputs": [],
   "source": [
    "import numpy as np\n",
    "import pandas as pd \n",
    "\n",
    "import matplotlib.pyplot as plt\n",
    "get_ipython().magic(u'matplotlib inline')\n",
    "plt.rcParams['figure.figsize'] = (14, 14)"
   ]
  },
  {
   "cell_type": "code",
   "execution_count": 11,
   "metadata": {
    "collapsed": true
   },
   "outputs": [],
   "source": [
    "labels = pd.read_csv('../data/id_train.csv')\n",
    "labels_test = pd.read_csv('../data/sample_submission4.csv')\n",
    "labels_test['label'] = labels.ix[0].label"
   ]
  },
  {
   "cell_type": "code",
   "execution_count": 5,
   "metadata": {
    "collapsed": true
   },
   "outputs": [],
   "source": [
    "from sklearn.cross_validation import train_test_split\n",
    "X_train, X_val =train_test_split(labels, test_size=0.1, stratify = labels['label'],random_state=42)"
   ]
  },
  {
   "cell_type": "code",
   "execution_count": 6,
   "metadata": {
    "collapsed": false
   },
   "outputs": [],
   "source": [
    "import os.path\n",
    "import os\n",
    "base_path = '../data/data_split/'\n",
    "\n",
    "!rm -Rf $base_path\n",
    "for l in X_train.label.unique():\n",
    "    \n",
    "    d = base_path + 'train/' + str(l)\n",
    "    if not os.path.exists(d):\n",
    "        os.makedirs(d)\n",
    "        \n",
    "    d = base_path + 'val/' + str(l)\n",
    "    if not os.path.exists(d):\n",
    "        os.makedirs(d)\n",
    "        "
   ]
  },
  {
   "cell_type": "code",
   "execution_count": 7,
   "metadata": {
    "collapsed": false
   },
   "outputs": [],
   "source": [
    "what = X_train \n",
    "\n",
    "for i in what.index:\n",
    "    row = what.ix[i]\n",
    "    link_name = '../data/data_split/train/' + str(row.label) + '/' +  str(row.Id) + '.jpg'\n",
    "    if os.path.lexists(link_name):\n",
    "        os.unlink(link_name)\n",
    "        \n",
    "    os.symlink(os.path.abspath('../data/roof_images/' + str(row.Id) + '.jpg'), os.path.abspath(link_name))"
   ]
  },
  {
   "cell_type": "code",
   "execution_count": 8,
   "metadata": {
    "collapsed": true
   },
   "outputs": [],
   "source": [
    "what = X_val\n",
    "\n",
    "for i in what.index:\n",
    "    row = what.ix[i]\n",
    "    link_name = '../data/data_split/val/' + str(row.label) + '/' +  str(row.Id) + '.jpg'\n",
    "    if os.path.lexists(link_name):\n",
    "        os.unlink(link_name)\n",
    "        \n",
    "    os.symlink(os.path.abspath('../data/roof_images/' + str(row.Id) + '.jpg'), os.path.abspath(link_name))"
   ]
  },
  {
   "cell_type": "markdown",
   "metadata": {
    "collapsed": true
   },
   "source": [
    "# Prepare for testing"
   ]
  },
  {
   "cell_type": "code",
   "execution_count": 9,
   "metadata": {
    "collapsed": true
   },
   "outputs": [],
   "source": [
    "import os.path\n",
    "import os\n",
    "base_path = '../data/data_split_test/'\n",
    "\n",
    "!rm -Rf $base_path\n",
    "for l in X_train.label.unique():\n",
    "    \n",
    "    d = base_path + 'train/' + str(l)\n",
    "    if not os.path.exists(d):\n",
    "        os.makedirs(d)\n",
    "        \n",
    "    d = base_path + 'val/' + str(l)\n",
    "    if not os.path.exists(d):\n",
    "        os.makedirs(d)\n",
    "        "
   ]
  },
  {
   "cell_type": "code",
   "execution_count": 10,
   "metadata": {
    "collapsed": true
   },
   "outputs": [],
   "source": [
    "what = labels \n",
    "\n",
    "for i in what.index:\n",
    "    row = what.ix[i]\n",
    "    link_name = '../data/data_split_test/train/' + str(row.label) + '/' +  str(row.Id) + '.jpg'\n",
    "    if os.path.lexists(link_name):\n",
    "        os.unlink(link_name)\n",
    "        \n",
    "    os.symlink(os.path.abspath('../data/roof_images/' + str(row.Id) + '.jpg'), os.path.abspath(link_name))"
   ]
  },
  {
   "cell_type": "code",
   "execution_count": 13,
   "metadata": {
    "collapsed": true
   },
   "outputs": [],
   "source": [
    "what = labels_test\n",
    "\n",
    "for i in what.index:\n",
    "    row = what.ix[i]\n",
    "    link_name = '../data/data_split_test/val/' + str(row.label) + '/' +  str(row.Id) + '.jpg'\n",
    "    if os.path.lexists(link_name):\n",
    "        os.unlink(link_name)\n",
    "        \n",
    "    os.symlink(os.path.abspath('../data/roof_images/' + str(row.Id) + '.jpg'), os.path.abspath(link_name))"
   ]
  },
  {
   "cell_type": "markdown",
   "metadata": {},
   "source": [
    "# Mix"
   ]
  },
  {
   "cell_type": "code",
   "execution_count": 46,
   "metadata": {
    "collapsed": false
   },
   "outputs": [],
   "source": [
    "import torchfile\n",
    "files = ['preds1.t7','preds2.t7', 'preds3.t7']\n",
    "\n",
    "class_corresp = torchfile.load('gen/imagenet.t7')['classList']\n",
    "map_rule = {i:int(x) for i,x in enumerate(class_corresp)}"
   ]
  },
  {
   "cell_type": "code",
   "execution_count": 47,
   "metadata": {
    "collapsed": true
   },
   "outputs": [],
   "source": [
    "def softmax(x):\n",
    "    \"\"\"Compute softmax values for each sets of scores in x.\"\"\"\n",
    "    return np.exp(x) / np.sum(np.exp(x), axis=1,keepdims=True)"
   ]
  },
  {
   "cell_type": "code",
   "execution_count": 48,
   "metadata": {
    "collapsed": false
   },
   "outputs": [],
   "source": [
    "outs =[]\n",
    "for f in files: \n",
    "    p1 = torchfile.load(f)\n",
    "\n",
    "    names = sum([x[1] for x in p1],[])\n",
    "    n_idx = np.argsort(names)\n",
    "    \n",
    "    outs.append(np.vstack([x[0] for x in p1])[n_idx])\n",
    "\n",
    "    \n",
    "names = np.array(names)[n_idx]\n",
    "ids = [x.split('.')[0].split('/')[-1]  for x in names]\n",
    "\n",
    "outs = [softmax(x/np.max(x, axis = 1, keepdims=True)) for x in outs]"
   ]
  },
  {
   "cell_type": "code",
   "execution_count": 62,
   "metadata": {
    "collapsed": false,
    "scrolled": true
   },
   "outputs": [],
   "source": [
    "preds = pd.Series(sum(outs).argmax(1)).map(map_rule)\n",
    "\n",
    "t = pd.DataFrame()\n",
    "t['Id'] = ids\n",
    "t['label'] = preds\n",
    "\n",
    "# t['image_id'] = t['image_id'].astype(int)\n",
    "# t = t.sort_values('image_id')\n",
    "# t[:20]"
   ]
  },
  {
   "cell_type": "code",
   "execution_count": 61,
   "metadata": {
    "collapsed": false
   },
   "outputs": [],
   "source": [
    "t.to_csv('resnet50_3av_10crop.csv', index=False)"
   ]
  }
 ],
 "metadata": {
  "kernelspec": {
   "display_name": "Python 2",
   "language": "python",
   "name": "python2"
  },
  "language_info": {
   "codemirror_mode": {
    "name": "ipython",
    "version": 2
   },
   "file_extension": ".py",
   "mimetype": "text/x-python",
   "name": "python",
   "nbconvert_exporter": "python",
   "pygments_lexer": "ipython2",
   "version": "2.7.11"
  }
 },
 "nbformat": 4,
 "nbformat_minor": 0
}
